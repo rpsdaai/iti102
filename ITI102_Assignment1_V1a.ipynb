{
 "cells": [
  {
   "cell_type": "markdown",
   "metadata": {
    "id": "wse8vWWRD0K5"
   },
   "source": [
    "# **Data Science ITI102 Assignment 1**\n",
    "\n",
    "## Smartphone Applications Dataset Analysis\n",
    "Instructions:\n",
    "\n",
    "\n",
    "*   Complete sections with label TODO with the correct code\n",
    "*   Add the code under the label #Add code\n",
    "*   Fill your Name and Admin in the below section\n",
    "\n",
    "\n",
    "\n",
    "```\n",
    "Name : ****\n",
    "Admin no: *****\n",
    "```\n",
    "\n",
    "\n"
   ]
  },
  {
   "cell_type": "markdown",
   "metadata": {
    "id": "3lh7DlB8D0K8"
   },
   "source": [
    "## In this assignment, you are going to analyse the dataset for Smartphone Applications\n",
    "\n",
    "###**Dataset Information**\n",
    "\n",
    "You are given a csv file **dataset.csv** with all the data.    \n",
    "There are 13 columns in the csv file.    \n",
    "The first row is the header.    \n",
    "\n",
    "Following are the description for each header for the columns:\n",
    "\n",
    "1.App\t\n",
    "2.Category   \n",
    "3.Rating  \n",
    "4.Reviews\t\n",
    "5.Size\t\n",
    "6.Installs\t\n",
    "7.Type\t\n",
    "8.Price\t\n",
    "9.Content Rating\t\n",
    "10.Genres\t\n",
    "11.Last Updated\t\n",
    "12.Current Ver\t\n",
    "13.Android Ver\n",
    "\n",
    "\n"
   ]
  },
  {
   "cell_type": "markdown",
   "metadata": {
    "id": "1xIPH2cUD0K9"
   },
   "source": [
    "### Complete all the codes in the following sections:\n",
    "> #### 1. Importing Packages\n",
    "> #### 2. Reading Data\n",
    "> #### 3. Data Preprocessing\n",
    "    > #### -  3.1 Handling NULL Values\n",
    "    > #### -  3.2 Handling Data Types and Values\n",
    "> #### 4. Analyzing Features\n",
    "> #### 5. Furthur Analysis.\n",
    "\n",
    "**Read the requirement at TODO**  \n",
    "**Then fill the code in the cell with tag** #Add code\n"
   ]
  },
  {
   "cell_type": "markdown",
   "metadata": {
    "id": "GF0JX8yLD0K9"
   },
   "source": [
    "<a id='1'></a>\n",
    "## 1. Importing the required packages"
   ]
  },
  {
   "cell_type": "markdown",
   "metadata": {
    "id": "qyELf4X1Ipfm"
   },
   "source": [
    "TODO: (0.5 mark)  \n",
    "\n",
    "* Add all the modules that you require for the subsequence steps.\n",
    "\n",
    "* All the required modules must be added in this section."
   ]
  },
  {
   "cell_type": "code",
   "execution_count": 2,
   "metadata": {
    "id": "w8mSC70gjYAH"
   },
   "outputs": [],
   "source": [
    "#Add code\n",
    "# import numpy, matplotlib.pylot and panda\n",
    "import numpy as np\n",
    "import matplotlib.pyplot as plt\n",
    "import pandas as pd"
   ]
  },
  {
   "cell_type": "markdown",
   "metadata": {
    "id": "TZQaKg8NsDfl"
   },
   "source": [
    "TODO: (0.5 mark)   \n",
    "* Mount drive in colab      \n",
    "* Create directory in google drive  '/content/drive/My Drive/Data/DSA1/'      \n",
    "* Copy file 'dataset.csv' into directory '/content/drive/My Drive/Data/DSA1/'      "
   ]
  },
  {
   "cell_type": "code",
   "execution_count": null,
   "metadata": {
    "id": "7ESW7rmNhknZ"
   },
   "outputs": [],
   "source": [
    "#Add Code\n",
    "from google.colab import drive\n",
    "drive.mount('/content/drive/')\n",
    "datadir=\"/content/drive/My Drive/Data/DSA1/\"\n",
    "\n",
    "# Execute this command to check file is indeed copied to DSA1 folder\n",
    "!ls 'drive/My Drive/Data/DSA1/'"
   ]
  },
  {
   "cell_type": "markdown",
   "metadata": {
    "id": "ZOPxB_dLD0LC"
   },
   "source": [
    "***"
   ]
  },
  {
   "cell_type": "markdown",
   "metadata": {
    "id": "jr-tdc_HD0LD"
   },
   "source": [
    "<a id='2'></a>\n",
    "## 2.  Reading Data\n",
    "TODO: (1 marks)\n",
    "\n",
    "* Use pandas function to read in the given dataset 'dataset.csv' that you have copied in the directory '/content/drive/My Drive/Data/DSA1/'.\n",
    "\n",
    "* Assign the read dataframe into a variable. Use this dataframe variable for the rest of the part in the notebook. \n",
    "\n",
    "* Display the first 5 rows of data that you read using the pandas function."
   ]
  },
  {
   "cell_type": "code",
   "execution_count": 4,
   "metadata": {
    "id": "pu5pjWkWhoge"
   },
   "outputs": [],
   "source": [
    "#Add code\n",
    "df = pd.read_csv('dataset.csv')"
   ]
  },
  {
   "cell_type": "code",
   "execution_count": 5,
   "metadata": {
    "id": "45q00DgRJA2z"
   },
   "outputs": [
    {
     "data": {
      "text/html": [
       "<div>\n",
       "<style scoped>\n",
       "    .dataframe tbody tr th:only-of-type {\n",
       "        vertical-align: middle;\n",
       "    }\n",
       "\n",
       "    .dataframe tbody tr th {\n",
       "        vertical-align: top;\n",
       "    }\n",
       "\n",
       "    .dataframe thead th {\n",
       "        text-align: right;\n",
       "    }\n",
       "</style>\n",
       "<table border=\"1\" class=\"dataframe\">\n",
       "  <thead>\n",
       "    <tr style=\"text-align: right;\">\n",
       "      <th></th>\n",
       "      <th>App</th>\n",
       "      <th>Category</th>\n",
       "      <th>Rating</th>\n",
       "      <th>Reviews</th>\n",
       "      <th>Size</th>\n",
       "      <th>Installs</th>\n",
       "      <th>Type</th>\n",
       "      <th>Price</th>\n",
       "      <th>Content Rating</th>\n",
       "      <th>Genres</th>\n",
       "      <th>Last Updated</th>\n",
       "      <th>Current Ver</th>\n",
       "      <th>Android Ver</th>\n",
       "    </tr>\n",
       "  </thead>\n",
       "  <tbody>\n",
       "    <tr>\n",
       "      <th>0</th>\n",
       "      <td>Photo Editor &amp; Candy Camera &amp; Grid &amp; ScrapBook</td>\n",
       "      <td>ART_AND_DESIGN</td>\n",
       "      <td>4.1</td>\n",
       "      <td>159</td>\n",
       "      <td>19M</td>\n",
       "      <td>10,000+</td>\n",
       "      <td>Free</td>\n",
       "      <td>0</td>\n",
       "      <td>Everyone</td>\n",
       "      <td>Art &amp; Design</td>\n",
       "      <td>January 7, 2018</td>\n",
       "      <td>1.0.0</td>\n",
       "      <td>4.0.3 and up</td>\n",
       "    </tr>\n",
       "    <tr>\n",
       "      <th>1</th>\n",
       "      <td>Coloring book moana</td>\n",
       "      <td>ART_AND_DESIGN</td>\n",
       "      <td>3.9</td>\n",
       "      <td>967</td>\n",
       "      <td>14M</td>\n",
       "      <td>500,000+</td>\n",
       "      <td>Free</td>\n",
       "      <td>0</td>\n",
       "      <td>Everyone</td>\n",
       "      <td>Art &amp; Design;Pretend Play</td>\n",
       "      <td>January 15, 2018</td>\n",
       "      <td>2.0.0</td>\n",
       "      <td>4.0.3 and up</td>\n",
       "    </tr>\n",
       "    <tr>\n",
       "      <th>2</th>\n",
       "      <td>U Launcher Lite – FREE Live Cool Themes, Hide ...</td>\n",
       "      <td>ART_AND_DESIGN</td>\n",
       "      <td>4.7</td>\n",
       "      <td>87510</td>\n",
       "      <td>8.7M</td>\n",
       "      <td>5,000,000+</td>\n",
       "      <td>Free</td>\n",
       "      <td>0</td>\n",
       "      <td>Everyone</td>\n",
       "      <td>Art &amp; Design</td>\n",
       "      <td>August 1, 2018</td>\n",
       "      <td>1.2.4</td>\n",
       "      <td>4.0.3 and up</td>\n",
       "    </tr>\n",
       "    <tr>\n",
       "      <th>3</th>\n",
       "      <td>Sketch - Draw &amp; Paint</td>\n",
       "      <td>ART_AND_DESIGN</td>\n",
       "      <td>4.5</td>\n",
       "      <td>215644</td>\n",
       "      <td>25M</td>\n",
       "      <td>50,000,000+</td>\n",
       "      <td>Free</td>\n",
       "      <td>0</td>\n",
       "      <td>Teen</td>\n",
       "      <td>Art &amp; Design</td>\n",
       "      <td>June 8, 2018</td>\n",
       "      <td>Varies with device</td>\n",
       "      <td>4.2 and up</td>\n",
       "    </tr>\n",
       "    <tr>\n",
       "      <th>4</th>\n",
       "      <td>Pixel Draw - Number Art Coloring Book</td>\n",
       "      <td>ART_AND_DESIGN</td>\n",
       "      <td>4.3</td>\n",
       "      <td>967</td>\n",
       "      <td>2.8M</td>\n",
       "      <td>100,000+</td>\n",
       "      <td>Free</td>\n",
       "      <td>0</td>\n",
       "      <td>Everyone</td>\n",
       "      <td>Art &amp; Design;Creativity</td>\n",
       "      <td>June 20, 2018</td>\n",
       "      <td>1.1</td>\n",
       "      <td>4.4 and up</td>\n",
       "    </tr>\n",
       "  </tbody>\n",
       "</table>\n",
       "</div>"
      ],
      "text/plain": [
       "                                                 App        Category  Rating  \\\n",
       "0     Photo Editor & Candy Camera & Grid & ScrapBook  ART_AND_DESIGN     4.1   \n",
       "1                                Coloring book moana  ART_AND_DESIGN     3.9   \n",
       "2  U Launcher Lite – FREE Live Cool Themes, Hide ...  ART_AND_DESIGN     4.7   \n",
       "3                              Sketch - Draw & Paint  ART_AND_DESIGN     4.5   \n",
       "4              Pixel Draw - Number Art Coloring Book  ART_AND_DESIGN     4.3   \n",
       "\n",
       "  Reviews  Size     Installs  Type Price Content Rating  \\\n",
       "0     159   19M      10,000+  Free     0       Everyone   \n",
       "1     967   14M     500,000+  Free     0       Everyone   \n",
       "2   87510  8.7M   5,000,000+  Free     0       Everyone   \n",
       "3  215644   25M  50,000,000+  Free     0           Teen   \n",
       "4     967  2.8M     100,000+  Free     0       Everyone   \n",
       "\n",
       "                      Genres      Last Updated         Current Ver  \\\n",
       "0               Art & Design   January 7, 2018               1.0.0   \n",
       "1  Art & Design;Pretend Play  January 15, 2018               2.0.0   \n",
       "2               Art & Design    August 1, 2018               1.2.4   \n",
       "3               Art & Design      June 8, 2018  Varies with device   \n",
       "4    Art & Design;Creativity     June 20, 2018                 1.1   \n",
       "\n",
       "    Android Ver  \n",
       "0  4.0.3 and up  \n",
       "1  4.0.3 and up  \n",
       "2  4.0.3 and up  \n",
       "3    4.2 and up  \n",
       "4    4.4 and up  "
      ]
     },
     "execution_count": 5,
     "metadata": {},
     "output_type": "execute_result"
    }
   ],
   "source": [
    "#Add code\n",
    "df.head(5)"
   ]
  },
  {
   "cell_type": "markdown",
   "metadata": {
    "id": "hhyOgj9WD0LH"
   },
   "source": [
    "***"
   ]
  },
  {
   "cell_type": "markdown",
   "metadata": {
    "id": "KDWrQ5aND0LI"
   },
   "source": [
    "<a id='3.1'></a>\n",
    "\n",
    "## 3. Data Preprocessing\n",
    "\n"
   ]
  },
  {
   "cell_type": "markdown",
   "metadata": {
    "id": "sVXTOkCvydcr"
   },
   "source": [
    "### 3.1 Handling NULL/Duplication Values"
   ]
  },
  {
   "cell_type": "markdown",
   "metadata": {
    "id": "DOQWNUqXD0LJ"
   },
   "source": [
    "#### This is a very crucial step in every analysis and model, which help to improves the accuracy of insights and predictions.  \n",
    "\n",
    "TODO:(1 mark)\n",
    "\n",
    "Use the dataframe variable that you read from the previous section using pandas function.\n",
    "\n",
    "* Count number of Null in each columns\n",
    "\n",
    "* Drop all rows with Null values"
   ]
  },
  {
   "cell_type": "code",
   "execution_count": 6,
   "metadata": {
    "id": "Dkqdugv1k8dT"
   },
   "outputs": [
    {
     "data": {
      "text/plain": [
       "(10841, 13)"
      ]
     },
     "execution_count": 6,
     "metadata": {},
     "output_type": "execute_result"
    }
   ],
   "source": [
    "# Check the number of rows before the data cleaning\n",
    "df.shape"
   ]
  },
  {
   "cell_type": "code",
   "execution_count": 8,
   "metadata": {
    "id": "k3nUFpzFI9WV"
   },
   "outputs": [
    {
     "data": {
      "text/plain": [
       "App                  0\n",
       "Category             0\n",
       "Rating            1474\n",
       "Reviews              0\n",
       "Size                 0\n",
       "Installs             0\n",
       "Type                 1\n",
       "Price                0\n",
       "Content Rating       1\n",
       "Genres               0\n",
       "Last Updated         0\n",
       "Current Ver          8\n",
       "Android Ver          3\n",
       "dtype: int64"
      ]
     },
     "execution_count": 8,
     "metadata": {},
     "output_type": "execute_result"
    }
   ],
   "source": [
    "#Add code\n",
    "df.isnull().sum()"
   ]
  },
  {
   "cell_type": "code",
   "execution_count": 12,
   "metadata": {
    "id": "CmbTpRmBkKg9"
   },
   "outputs": [
    {
     "data": {
      "text/plain": [
       "(9360, 13)"
      ]
     },
     "execution_count": 12,
     "metadata": {},
     "output_type": "execute_result"
    }
   ],
   "source": [
    "#Add code\n",
    "df.dropna(inplace=True)\n",
    "df.shape"
   ]
  },
  {
   "cell_type": "markdown",
   "metadata": {
    "id": "7eXlLvFHD0LM"
   },
   "source": [
    "#### There also duplications in the dataset\n",
    "TODO: (1 mark)\n",
    "\n",
    "* Remove the duplications rows in the dataset\n",
    "\n",
    "\n"
   ]
  },
  {
   "cell_type": "code",
   "execution_count": 14,
   "metadata": {
    "id": "rS94eZKvkN_e"
   },
   "outputs": [],
   "source": [
    "#Add code\n",
    "df.drop_duplicates(inplace=True)"
   ]
  },
  {
   "cell_type": "markdown",
   "metadata": {
    "id": "gJXuQGK3D0LQ"
   },
   "source": [
    "#### Print the shape of the data read\n",
    "* Display the size of the dataset read"
   ]
  },
  {
   "cell_type": "code",
   "execution_count": 15,
   "metadata": {
    "colab": {
     "base_uri": "https://localhost:8080/"
    },
    "executionInfo": {
     "elapsed": 808,
     "status": "ok",
     "timestamp": 1617509775278,
     "user": {
      "displayName": "NYP weech",
      "photoUrl": "",
      "userId": "03211871160483530494"
     },
     "user_tz": -480
    },
    "id": "EpT3fLGKD0LR",
    "outputId": "041ed90d-c26b-431c-9975-fd56e6591220"
   },
   "outputs": [
    {
     "data": {
      "text/plain": [
       "(8886, 13)"
      ]
     },
     "execution_count": 15,
     "metadata": {},
     "output_type": "execute_result"
    }
   ],
   "source": [
    "df.shape"
   ]
  },
  {
   "cell_type": "markdown",
   "metadata": {
    "id": "o9znBL1LD0LU"
   },
   "source": [
    "<a id='3.2'></a>\n",
    "### 3.2 Handling Data Types of each Feature\n",
    "\n",
    "#### The data types of each feature must be changed to a proper format that can be used for analysis.\n",
    "This is the tasks for this section."
   ]
  },
  {
   "cell_type": "markdown",
   "metadata": {
    "id": "pOuB2PaPD0LX"
   },
   "source": [
    "####TODO: (2 Marks)     \n",
    "\n",
    "The Column *Reviews* must be of correct numerical type\n",
    "\n",
    "* Check the Column Reviews type. Display the result.\n",
    "* Change the Reviews column type to int64. Display the result. "
   ]
  },
  {
   "cell_type": "code",
   "execution_count": 19,
   "metadata": {
    "id": "bbCXMq7SoZTF"
   },
   "outputs": [
    {
     "name": "stdout",
     "output_type": "stream",
     "text": [
      "object\n"
     ]
    }
   ],
   "source": [
    "#Add code\n",
    "print(df['Reviews'].dtypes)"
   ]
  },
  {
   "cell_type": "code",
   "execution_count": 25,
   "metadata": {
    "id": "_WNLw7eUqi0v"
   },
   "outputs": [
    {
     "name": "stdout",
     "output_type": "stream",
     "text": [
      "int64\n"
     ]
    }
   ],
   "source": [
    "#Add code\n",
    "df['Reviews'] = df['Reviews'].astype('int64')\n",
    "print (df['Reviews'].dtypes)"
   ]
  },
  {
   "cell_type": "markdown",
   "metadata": {
    "id": "lnLnxAEVD0Lb"
   },
   "source": [
    "####TODO:(2 Marks)\n",
    "Changing the Feature : Installs\n",
    "\n",
    "* The installs values must be changed to a proper format so that we can use them for analysis and plots.    \n",
    "Example : Change '10,000+' to 10000\n",
    "* After format the data in installs column, convert all items in the column to float.\n",
    "* Update the new data into your dataframe where the installs column is."
   ]
  },
  {
   "cell_type": "code",
   "execution_count": 30,
   "metadata": {
    "id": "i89hFdJ7wI4u"
   },
   "outputs": [
    {
     "name": "stdout",
     "output_type": "stream",
     "text": [
      "object\n",
      "float32\n"
     ]
    }
   ],
   "source": [
    "#Add code\n",
    "df['Installs'] = df['Installs'].str.replace(',+', '')\n",
    "print(df['Installs'].dtype)\n",
    "df['Installs'] = df['Installs'].astype('f')\n",
    "print(df['Installs'].dtype)"
   ]
  },
  {
   "cell_type": "markdown",
   "metadata": {
    "id": "3qdBRbVqD0Le"
   },
   "source": [
    "####TODO: (2 Marks)\n",
    "Changing the feature : Size\n",
    "\n",
    "* The column Size values are not able to use for data analysis, it not a value.\n",
    "* Change if into number format example 15M to 15.0, Do for all the rest in this column,\n",
    "* After format the data in Size column, convert all items in the column to float.\n",
    "* Update the new data into your dataframe where the Size column is."
   ]
  },
  {
   "cell_type": "code",
   "execution_count": 36,
   "metadata": {
    "id": "OrxStjknwcdr"
   },
   "outputs": [
    {
     "name": "stdout",
     "output_type": "stream",
     "text": [
      "float32\n"
     ]
    }
   ],
   "source": [
    "#Add code\n",
    "df1 = df['Size'].str.replace('M', '')\n",
    "df1 = df1.str.replace('k', '')\n",
    "df2 = df1.str.replace('Varies with device', '0').astype('f')\n",
    "print (df2.dtype)"
   ]
  },
  {
   "cell_type": "markdown",
   "metadata": {
    "id": "wTPr3aiPD0Lh"
   },
   "source": [
    "####TODO: 2 (Marks)    \n",
    "\n",
    "Changing the feature Price \n",
    "\n",
    "* Most value in the Price column is 0 but some have value example  \n",
    "```\n",
    "$2.44\n",
    "```\n",
    "* You need to remove '$' in the data.\n",
    "* After format the data in Price column, convert all items in the column to float.\n",
    "* Update the new data into your dataframe where the Price column is."
   ]
  },
  {
   "cell_type": "code",
   "execution_count": 37,
   "metadata": {
    "id": "mFAJ2-wAwm9W"
   },
   "outputs": [
    {
     "data": {
      "text/plain": [
       "0        0.0\n",
       "1        0.0\n",
       "2        0.0\n",
       "3        0.0\n",
       "4        0.0\n",
       "        ... \n",
       "10834    0.0\n",
       "10836    0.0\n",
       "10837    0.0\n",
       "10839    0.0\n",
       "10840    0.0\n",
       "Name: Price, Length: 8886, dtype: float32"
      ]
     },
     "execution_count": 37,
     "metadata": {},
     "output_type": "execute_result"
    }
   ],
   "source": [
    "#Add code\n",
    "df['Price'] = df['Price'].str.replace('$', '').astype('f')\n",
    "df['Price']"
   ]
  },
  {
   "cell_type": "markdown",
   "metadata": {
    "id": "N_rfL46BD0Ll"
   },
   "source": [
    "####TODO: (2 Marks)\n",
    "\n",
    "Changing the feature, Android Ver \n",
    "\n",
    "The column Android Ver store data example 4.0.3 and up    \n",
    "* We are only interest on the major version not the minor version   \n",
    "* We need to change format, for example **4.0.3 and up**  to **4.0**, do for the rest of items in this column.\n",
    "* After format the data in Android Ver column, convert all items in the column to float.\n",
    "* Update the new data into your dataframe where the Android Ver column is."
   ]
  },
  {
   "cell_type": "code",
   "execution_count": 45,
   "metadata": {
    "id": "xFMM62VEw4CY"
   },
   "outputs": [
    {
     "data": {
      "text/plain": [
       "0        4.0\n",
       "1        4.0\n",
       "2        4.0\n",
       "3        4.2\n",
       "4        4.4\n",
       "        ... \n",
       "10834    4.1\n",
       "10836    4.1\n",
       "10837    4.1\n",
       "10839    0.0\n",
       "10840    0.0\n",
       "Name: Android Ver, Length: 8886, dtype: float32"
      ]
     },
     "execution_count": 45,
     "metadata": {},
     "output_type": "execute_result"
    }
   ],
   "source": [
    "#Add code\n",
    "# Ref: https://www.xspdf.com/resolution/50724763.html\n",
    "# s = [float(s) for s in re.findall(r'-?\\d+\\.?\\d*', sentence)]\n",
    "df['Android Ver'] = df['Android Ver'].str.replace('Varies with device', '0')\n",
    "df['Android Ver'] = df['Android Ver'].str.extract('(\\d+\\.?\\d*)').astype('f')\n",
    "df['Android Ver']"
   ]
  },
  {
   "cell_type": "markdown",
   "metadata": {
    "id": "_eaxlwziD0Lo"
   },
   "source": [
    "<a id='4'></a>\n",
    "## 4. Analyzing Features :"
   ]
  },
  {
   "cell_type": "markdown",
   "metadata": {
    "id": "5OC8X9U2D0Lp"
   },
   "source": [
    "### 4.1 Categories\n",
    "\n",
    "\n"
   ]
  },
  {
   "cell_type": "markdown",
   "metadata": {
    "id": "59q-9ScHjfw7"
   },
   "source": [
    "####TODO:(2 Marks) \n",
    "\n",
    "Find the Total count for each of the Category\n",
    "\n",
    "* In the Category column display the different App category. You need to count the total number for each Category.\n",
    "\n",
    "Example\n",
    "```\n",
    "Example only. Not the answer.\n",
    "\n",
    "FAMILY                 1717\n",
    "GAME                   1074\n",
    "TOOLS                   733\n",
    "PRODUCTIVITY            334\n",
    "FINANCE                 317\n",
    ".....\n",
    ".....\n",
    "```\n",
    "\n"
   ]
  },
  {
   "cell_type": "code",
   "execution_count": 47,
   "metadata": {
    "id": "V5BPrLoex5rs"
   },
   "outputs": [
    {
     "data": {
      "text/plain": [
       "Category\n",
       "ART_AND_DESIGN           61\n",
       "AUTO_AND_VEHICLES        73\n",
       "BEAUTY                   42\n",
       "BOOKS_AND_REFERENCE     177\n",
       "BUSINESS                270\n",
       "COMICS                   58\n",
       "COMMUNICATION           307\n",
       "DATING                  159\n",
       "EDUCATION               129\n",
       "ENTERTAINMENT           111\n",
       "EVENTS                   45\n",
       "FAMILY                 1717\n",
       "FINANCE                 317\n",
       "FOOD_AND_DRINK          106\n",
       "GAME                   1074\n",
       "HEALTH_AND_FITNESS      262\n",
       "HOUSE_AND_HOME           68\n",
       "LIBRARIES_AND_DEMO       64\n",
       "LIFESTYLE               305\n",
       "MAPS_AND_NAVIGATION     124\n",
       "MEDICAL                 302\n",
       "NEWS_AND_MAGAZINES      214\n",
       "PARENTING                50\n",
       "PERSONALIZATION         308\n",
       "PHOTOGRAPHY             304\n",
       "PRODUCTIVITY            334\n",
       "SHOPPING                202\n",
       "SOCIAL                  244\n",
       "SPORTS                  286\n",
       "TOOLS                   733\n",
       "TRAVEL_AND_LOCAL        205\n",
       "VIDEO_PLAYERS           160\n",
       "WEATHER                  75\n",
       "Name: App, dtype: int64"
      ]
     },
     "execution_count": 47,
     "metadata": {},
     "output_type": "execute_result"
    }
   ],
   "source": [
    "#Add code\n",
    "df.groupby(['Category'])['App'].count()\n"
   ]
  },
  {
   "cell_type": "markdown",
   "metadata": {
    "id": "BEW_ZqJklaKv"
   },
   "source": [
    "####TODO:(3 Marks)   \n",
    "\n",
    "* Group using the column 'Type', 'Category'and aggregate Rating with the mean\n",
    "* Which 'Type' and 'Category' has the highest mean Rating? Write your answer in the text cell below.\n",
    "\n",
    "\n",
    "```\n",
    "Example only. Not the answer.\n",
    "\n",
    "\t\t                       Rating\n",
    "                             mean\n",
    "Type    Category\t\n",
    "Free\tART_AND_DESIGN\t       4.358621\n",
    "       AUTO_AND_VEHICLES\t   4.184722\n",
    "       BEAUTY\t               4.278571\n",
    "       BOOKS_AND_REFERENCE\t 4.350888\n",
    "       BUSINESS\t             4.103448\n",
    "...\t...\t...\n",
    "Paid\t SPORTS\t            4.254545\n",
    "        TOOLS          \t    4.169841\n",
    "        TRAVEL_AND_LOCAL\t  4.100000\n",
    "        VIDEO_PLAYERS\t      4.100000\n",
    "        WEATHER\t            4.371429\n",
    "```\n",
    "\n",
    "\n",
    "\n"
   ]
  },
  {
   "cell_type": "code",
   "execution_count": 80,
   "metadata": {
    "id": "y-NOxtagzih9"
   },
   "outputs": [
    {
     "name": "stdout",
     "output_type": "stream",
     "text": [
      "Type                      Paid\n",
      "Category    NEWS_AND_MAGAZINES\n",
      "Rating                     4.8\n",
      "Name: 49, dtype: object\n"
     ]
    }
   ],
   "source": [
    "#Add code\n",
    "# Ref: https://www.datasciencemadesimple.com/select-row-maximum-minimum-value-python-pandas/\n",
    "# df_mean = df.groupby(['Type', 'Category'])['Rating'].mean()\n",
    "# df_mean = df.groupby(['Type', 'Category'])['Rating'].agg('mean')\n",
    "df_mean = df.groupby(['Type', 'Category'])['Rating'].mean().reset_index()\n",
    "print (df_mean.loc[df_mean['Rating'].idxmax()])\n",
    "\n",
    "#print (df_mean[21])\n",
    "#df_mean"
   ]
  },
  {
   "cell_type": "markdown",
   "metadata": {
    "id": "HBGoUJz6vW3s"
   },
   "source": [
    "Which 'Type' and 'Category' has the highest mean Rating?\n",
    "\n",
    "\n",
    "\n",
    "**Answer**\n",
    "\n",
    "- Type                      Paid\n",
    "- Category                  NEWS_AND_MAGAZINE\n"
   ]
  },
  {
   "cell_type": "markdown",
   "metadata": {
    "id": "Zg7dkxkYD0MD"
   },
   "source": [
    "### 4.2 Price \n",
    "#####TODO: (1 mark) \n",
    "\n",
    "* Find the row where the column Price is max and store as a dataframe"
   ]
  },
  {
   "cell_type": "code",
   "execution_count": 86,
   "metadata": {
    "id": "DLcXDmoSzpxr"
   },
   "outputs": [
    {
     "data": {
      "text/html": [
       "<div>\n",
       "<style scoped>\n",
       "    .dataframe tbody tr th:only-of-type {\n",
       "        vertical-align: middle;\n",
       "    }\n",
       "\n",
       "    .dataframe tbody tr th {\n",
       "        vertical-align: top;\n",
       "    }\n",
       "\n",
       "    .dataframe thead th {\n",
       "        text-align: right;\n",
       "    }\n",
       "</style>\n",
       "<table border=\"1\" class=\"dataframe\">\n",
       "  <thead>\n",
       "    <tr style=\"text-align: right;\">\n",
       "      <th></th>\n",
       "      <th>0</th>\n",
       "      <th>1</th>\n",
       "      <th>2</th>\n",
       "      <th>3</th>\n",
       "      <th>4</th>\n",
       "      <th>5</th>\n",
       "      <th>6</th>\n",
       "      <th>7</th>\n",
       "      <th>8</th>\n",
       "      <th>9</th>\n",
       "      <th>10</th>\n",
       "      <th>11</th>\n",
       "      <th>12</th>\n",
       "    </tr>\n",
       "  </thead>\n",
       "  <tbody>\n",
       "    <tr>\n",
       "      <th>index</th>\n",
       "      <td>App</td>\n",
       "      <td>Category</td>\n",
       "      <td>Rating</td>\n",
       "      <td>Reviews</td>\n",
       "      <td>Size</td>\n",
       "      <td>Installs</td>\n",
       "      <td>Type</td>\n",
       "      <td>Price</td>\n",
       "      <td>Content Rating</td>\n",
       "      <td>Genres</td>\n",
       "      <td>Last Updated</td>\n",
       "      <td>Current Ver</td>\n",
       "      <td>Android Ver</td>\n",
       "    </tr>\n",
       "    <tr>\n",
       "      <th>4367</th>\n",
       "      <td>I'm Rich - Trump Edition</td>\n",
       "      <td>LIFESTYLE</td>\n",
       "      <td>3.6</td>\n",
       "      <td>275</td>\n",
       "      <td>7.3M</td>\n",
       "      <td>10000</td>\n",
       "      <td>Paid</td>\n",
       "      <td>400</td>\n",
       "      <td>Everyone</td>\n",
       "      <td>Lifestyle</td>\n",
       "      <td>May 3, 2018</td>\n",
       "      <td>1.0.1</td>\n",
       "      <td>4.1</td>\n",
       "    </tr>\n",
       "  </tbody>\n",
       "</table>\n",
       "</div>"
      ],
      "text/plain": [
       "                             0          1       2        3     4         5   \\\n",
       "index                       App   Category  Rating  Reviews  Size  Installs   \n",
       "4367   I'm Rich - Trump Edition  LIFESTYLE     3.6      275  7.3M     10000   \n",
       "\n",
       "         6      7               8          9             10           11  \\\n",
       "index  Type  Price  Content Rating     Genres  Last Updated  Current Ver   \n",
       "4367   Paid    400        Everyone  Lifestyle   May 3, 2018        1.0.1   \n",
       "\n",
       "                12  \n",
       "index  Android Ver  \n",
       "4367           4.1  "
      ]
     },
     "execution_count": 86,
     "metadata": {},
     "output_type": "execute_result"
    }
   ],
   "source": [
    "#Add code\n",
    "df.loc[df['Price'].idxmax()].reset_index().transpose()"
   ]
  },
  {
   "cell_type": "markdown",
   "metadata": {
    "id": "E6HmcrImD0MR"
   },
   "source": [
    "<a id='5'></a>\n",
    "## 5. Furthur Analysis\n"
   ]
  },
  {
   "cell_type": "markdown",
   "metadata": {
    "id": "6zeTAgDV53j6"
   },
   "source": [
    "\n",
    "###TODO: (2 Marks)\n",
    "\n",
    "* Find all Apps with 5.0 ratings:\n",
    "\n",
    "* Then use the result to Group using the column 'Type', 'Category'and aggregate Rating with the number of count\n",
    "\n",
    "* Which of the Type and Group have the maximum Rating count? \n",
    "* Place your answers in the Text Cell. \n",
    "\n",
    "\n",
    "```\n",
    "Example only. Not the answer.\n",
    "\n",
    "\t\t                  Rating count\n",
    "Type\tCategory\t\n",
    "Free\tART_AND_DESIGN\t1\n",
    "      BOOKS_AND_REFERENCE\t4\n",
    "      BUSINESS\t18\n",
    "      COMICS\t2\n",
    "      COMMUNICATION\t5\n",
    "      DATING\t6\n",
    "      EVENTS\t6\n",
    "      FAMILY\t59\n",
    "      FINANCE\t8\n",
    "      FOOD_AND_DRINK\t2\n",
    "      GAME\t8\n",
    "      HEALTH_AND_FITNESS\t12\n",
    "      LIBRARIES_AND_DEMO\t2\n",
    "      LIFESTYLE\t27\n",
    "      MEDICAL\t23\n",
    "      NEWS_AND_MAGAZINES\t7\n",
    "      PARENTING\t1\n",
    "      PERSONALIZATION\t3\n",
    "      PHOTOGRAPHY\t6\n",
    "      PRODUCTIVITY\t7\n",
    "      SHOPPING\t6\n",
    "      SOCIAL\t8\n",
    "      SPORTS\t4\n",
    "      TOOLS\t15\n",
    "      TRAVEL_AND_LOCAL\t3\n",
    "Paid\tBOOKS_AND_REFERENCE\t2\n",
    "      FAMILY\t8\n",
    "      GAME\t4\n",
    "      LIFESTYLE\t2\n",
    "      MEDICAL\t2\n",
    "      PERSONALIZATION\t7\n",
    "      PRODUCTIVITY\t1\n",
    "      TOOLS\t2\n",
    "```\n",
    "\n"
   ]
  },
  {
   "cell_type": "code",
   "execution_count": 118,
   "metadata": {
    "id": "YDU_lm0eK3Dm"
   },
   "outputs": [
    {
     "name": "stdout",
     "output_type": "stream",
     "text": [
      "                          Rating\n",
      "Type Category                   \n",
      "Free ART_AND_DESIGN            1\n",
      "     BOOKS_AND_REFERENCE       4\n",
      "     BUSINESS                 18\n",
      "     COMICS                    2\n",
      "     COMMUNICATION             5\n",
      "     DATING                    6\n",
      "     EVENTS                    6\n",
      "     FAMILY                   59\n",
      "     FINANCE                   8\n",
      "     FOOD_AND_DRINK            2\n",
      "     GAME                      8\n",
      "     HEALTH_AND_FITNESS       12\n",
      "     LIBRARIES_AND_DEMO        2\n",
      "     LIFESTYLE                27\n",
      "     MEDICAL                  23\n",
      "     NEWS_AND_MAGAZINES        7\n",
      "     PARENTING                 1\n",
      "     PERSONALIZATION           3\n",
      "     PHOTOGRAPHY               6\n",
      "     PRODUCTIVITY              7\n",
      "     SHOPPING                  6\n",
      "     SOCIAL                    8\n",
      "     SPORTS                    4\n",
      "     TOOLS                    15\n",
      "     TRAVEL_AND_LOCAL          3\n",
      "Paid BOOKS_AND_REFERENCE       2\n",
      "     FAMILY                    8\n",
      "     GAME                      4\n",
      "     LIFESTYLE                 2\n",
      "     MEDICAL                   2\n",
      "     PERSONALIZATION           7\n",
      "     PRODUCTIVITY              1\n",
      "     TOOLS                     2\n"
     ]
    }
   ],
   "source": [
    "#Add code\n",
    "# df.groupby(['Type', 'Category'])['Rating']\n",
    "#df.loc[(df.refunded == 0) & (df.date > '2016-10-01')].groupby('user_id').sum()\n",
    "\n",
    "#df_tmp = df.loc[(df.Rating == 5.0)].groupby(['Type', 'Category'])['Rating']\n",
    "#print (df_tmp.head())\n",
    "#df.dtypes\n",
    "\n",
    "# Ref: https://stackoverflow.com/questions/43321636/most-efficient-way-to-groupby-and-aggregate-based-on-two-condition-in-pandas\n",
    "columns = ['Type', 'Category', 'Rating']\n",
    "filtered = df.loc[(df.Rating == 5.0), columns]\n",
    "# tt = filtered[columns].groupby(['Type', 'Category']).count().reset_index()\n",
    "tt = filtered[columns].groupby(['Type', 'Category']).agg('count')\n",
    "print (tt)"
   ]
  },
  {
   "cell_type": "code",
   "execution_count": 119,
   "metadata": {
    "id": "9xNBlRszYloW"
   },
   "outputs": [
    {
     "name": "stdout",
     "output_type": "stream",
     "text": [
      "Rating    59\n",
      "Name: (Free, FAMILY), dtype: int64\n"
     ]
    }
   ],
   "source": [
    "#Add code\n",
    "print (tt.loc[tt['Rating'].idxmax()])"
   ]
  },
  {
   "cell_type": "code",
   "execution_count": null,
   "metadata": {
    "id": "pP8EWzou9JxJ"
   },
   "outputs": [],
   "source": [
    "#Add code"
   ]
  },
  {
   "cell_type": "markdown",
   "metadata": {
    "id": "9Ua_69-E4V4D"
   },
   "source": [
    "Which of the Type and Group have the maximum Rating count?\n",
    "\n",
    "\n",
    "\n",
    "**Answer**\n",
    "- Type: Free\n",
    "- Category: FAMILY\n",
    "\n"
   ]
  },
  {
   "cell_type": "markdown",
   "metadata": {
    "id": "lUuOEEKCD0Mb"
   },
   "source": [
    "### TODO:  (2 Marks)\n",
    "\n",
    "* Show the descriptive statistics for the column Rating\n",
    "\n",
    "* Plot a frequencey plot for distribution of the column Rating\n",
    "\n",
    "* Get the skew value of the column Rating"
   ]
  },
  {
   "cell_type": "code",
   "execution_count": 121,
   "metadata": {
    "id": "MQGf3Q-hFrIE"
   },
   "outputs": [
    {
     "data": {
      "text/plain": [
       "count    8886.000000\n",
       "mean        4.187959\n",
       "std         0.522428\n",
       "min         1.000000\n",
       "25%         4.000000\n",
       "50%         4.300000\n",
       "75%         4.500000\n",
       "max         5.000000\n",
       "Name: Rating, dtype: float64"
      ]
     },
     "execution_count": 121,
     "metadata": {},
     "output_type": "execute_result"
    }
   ],
   "source": [
    "#Add code\n",
    "df['Rating'].describe()"
   ]
  },
  {
   "cell_type": "code",
   "execution_count": 158,
   "metadata": {
    "id": "1W_rxSOEBTdM"
   },
   "outputs": [
    {
     "name": "stdout",
     "output_type": "stream",
     "text": [
      "<class 'pandas.core.frame.DataFrame'>\n"
     ]
    },
    {
     "data": {
      "image/png": "[encoded data removed]",
      "text/plain": [
       "<Figure size 432x288 with 1 Axes>"
      ]
     },
     "metadata": {
      "needs_background": "light"
     },
     "output_type": "display_data"
    },
    {
     "data": {
      "text/html": [
       "<div>\n",
       "<style scoped>\n",
       "    .dataframe tbody tr th:only-of-type {\n",
       "        vertical-align: middle;\n",
       "    }\n",
       "\n",
       "    .dataframe tbody tr th {\n",
       "        vertical-align: top;\n",
       "    }\n",
       "\n",
       "    .dataframe thead th {\n",
       "        text-align: right;\n",
       "    }\n",
       "</style>\n",
       "<table border=\"1\" class=\"dataframe\">\n",
       "  <thead>\n",
       "    <tr style=\"text-align: right;\">\n",
       "      <th></th>\n",
       "      <th>Rating Counts</th>\n",
       "    </tr>\n",
       "  </thead>\n",
       "  <tbody>\n",
       "    <tr>\n",
       "      <th>1.2</th>\n",
       "      <td>1</td>\n",
       "    </tr>\n",
       "    <tr>\n",
       "      <th>1.5</th>\n",
       "      <td>3</td>\n",
       "    </tr>\n",
       "    <tr>\n",
       "      <th>1.4</th>\n",
       "      <td>3</td>\n",
       "    </tr>\n",
       "    <tr>\n",
       "      <th>1.6</th>\n",
       "      <td>4</td>\n",
       "    </tr>\n",
       "    <tr>\n",
       "      <th>1.8</th>\n",
       "      <td>8</td>\n",
       "    </tr>\n",
       "    <tr>\n",
       "      <th>2.1</th>\n",
       "      <td>8</td>\n",
       "    </tr>\n",
       "    <tr>\n",
       "      <th>1.7</th>\n",
       "      <td>8</td>\n",
       "    </tr>\n",
       "    <tr>\n",
       "      <th>1.9</th>\n",
       "      <td>12</td>\n",
       "    </tr>\n",
       "    <tr>\n",
       "      <th>2.0</th>\n",
       "      <td>12</td>\n",
       "    </tr>\n",
       "    <tr>\n",
       "      <th>2.2</th>\n",
       "      <td>14</td>\n",
       "    </tr>\n",
       "    <tr>\n",
       "      <th>1.0</th>\n",
       "      <td>16</td>\n",
       "    </tr>\n",
       "    <tr>\n",
       "      <th>2.4</th>\n",
       "      <td>19</td>\n",
       "    </tr>\n",
       "    <tr>\n",
       "      <th>2.3</th>\n",
       "      <td>20</td>\n",
       "    </tr>\n",
       "    <tr>\n",
       "      <th>2.5</th>\n",
       "      <td>20</td>\n",
       "    </tr>\n",
       "    <tr>\n",
       "      <th>2.7</th>\n",
       "      <td>23</td>\n",
       "    </tr>\n",
       "    <tr>\n",
       "      <th>2.6</th>\n",
       "      <td>24</td>\n",
       "    </tr>\n",
       "    <tr>\n",
       "      <th>2.8</th>\n",
       "      <td>40</td>\n",
       "    </tr>\n",
       "    <tr>\n",
       "      <th>2.9</th>\n",
       "      <td>45</td>\n",
       "    </tr>\n",
       "    <tr>\n",
       "      <th>3.2</th>\n",
       "      <td>63</td>\n",
       "    </tr>\n",
       "    <tr>\n",
       "      <th>3.1</th>\n",
       "      <td>69</td>\n",
       "    </tr>\n",
       "    <tr>\n",
       "      <th>3.0</th>\n",
       "      <td>82</td>\n",
       "    </tr>\n",
       "    <tr>\n",
       "      <th>4.9</th>\n",
       "      <td>87</td>\n",
       "    </tr>\n",
       "    <tr>\n",
       "      <th>3.3</th>\n",
       "      <td>101</td>\n",
       "    </tr>\n",
       "    <tr>\n",
       "      <th>3.4</th>\n",
       "      <td>127</td>\n",
       "    </tr>\n",
       "    <tr>\n",
       "      <th>3.5</th>\n",
       "      <td>157</td>\n",
       "    </tr>\n",
       "    <tr>\n",
       "      <th>3.6</th>\n",
       "      <td>169</td>\n",
       "    </tr>\n",
       "    <tr>\n",
       "      <th>4.8</th>\n",
       "      <td>228</td>\n",
       "    </tr>\n",
       "    <tr>\n",
       "      <th>3.7</th>\n",
       "      <td>231</td>\n",
       "    </tr>\n",
       "    <tr>\n",
       "      <th>5.0</th>\n",
       "      <td>271</td>\n",
       "    </tr>\n",
       "    <tr>\n",
       "      <th>3.8</th>\n",
       "      <td>293</td>\n",
       "    </tr>\n",
       "    <tr>\n",
       "      <th>3.9</th>\n",
       "      <td>372</td>\n",
       "    </tr>\n",
       "    <tr>\n",
       "      <th>4.7</th>\n",
       "      <td>484</td>\n",
       "    </tr>\n",
       "    <tr>\n",
       "      <th>4.0</th>\n",
       "      <td>538</td>\n",
       "    </tr>\n",
       "    <tr>\n",
       "      <th>4.1</th>\n",
       "      <td>656</td>\n",
       "    </tr>\n",
       "    <tr>\n",
       "      <th>4.6</th>\n",
       "      <td>768</td>\n",
       "    </tr>\n",
       "    <tr>\n",
       "      <th>4.2</th>\n",
       "      <td>887</td>\n",
       "    </tr>\n",
       "    <tr>\n",
       "      <th>4.5</th>\n",
       "      <td>976</td>\n",
       "    </tr>\n",
       "    <tr>\n",
       "      <th>4.3</th>\n",
       "      <td>1016</td>\n",
       "    </tr>\n",
       "    <tr>\n",
       "      <th>4.4</th>\n",
       "      <td>1031</td>\n",
       "    </tr>\n",
       "  </tbody>\n",
       "</table>\n",
       "</div>"
      ],
      "text/plain": [
       "     Rating Counts\n",
       "1.2              1\n",
       "1.5              3\n",
       "1.4              3\n",
       "1.6              4\n",
       "1.8              8\n",
       "2.1              8\n",
       "1.7              8\n",
       "1.9             12\n",
       "2.0             12\n",
       "2.2             14\n",
       "1.0             16\n",
       "2.4             19\n",
       "2.3             20\n",
       "2.5             20\n",
       "2.7             23\n",
       "2.6             24\n",
       "2.8             40\n",
       "2.9             45\n",
       "3.2             63\n",
       "3.1             69\n",
       "3.0             82\n",
       "4.9             87\n",
       "3.3            101\n",
       "3.4            127\n",
       "3.5            157\n",
       "3.6            169\n",
       "4.8            228\n",
       "3.7            231\n",
       "5.0            271\n",
       "3.8            293\n",
       "3.9            372\n",
       "4.7            484\n",
       "4.0            538\n",
       "4.1            656\n",
       "4.6            768\n",
       "4.2            887\n",
       "4.5            976\n",
       "4.3           1016\n",
       "4.4           1031"
      ]
     },
     "execution_count": 158,
     "metadata": {},
     "output_type": "execute_result"
    }
   ],
   "source": [
    "#Add code\n",
    "# Ref: https://re-thought.com/pandas-value_counts/#:~:text=The%20value_counts%20%28%29%20function%20is%20used%20to%20get,most%20frequently-occurring%20element.%20Excludes%20NA%20values%20by%20default.\n",
    "\n",
    "# df_rating_frequency_count = df['Rating'].value_counts(ascending=True).to_frame()\n",
    "df_rating_frequency_count = pd.DataFrame(df['Rating'].value_counts(ascending=True))\n",
    "print (type(df_rating_frequency_count))\n",
    "#df_rating_frequency_count.reset_index()\n",
    "df_rating_frequency_count.columns = ['Rating Counts']\n",
    "\n",
    "plt.bar(df_rating_frequency_count.index, df_rating_frequency_count['Rating Counts'])\n",
    "plt.xlabel('Rating')\n",
    "plt.ylabel('Count')\n",
    "plt.show()\n",
    "\n",
    "df_rating_frequency_count"
   ]
  },
  {
   "cell_type": "code",
   "execution_count": 159,
   "metadata": {
    "id": "g-t6QwwrBTnB"
   },
   "outputs": [
    {
     "data": {
      "text/plain": [
       "-1.8239465880060681"
      ]
     },
     "execution_count": 159,
     "metadata": {},
     "output_type": "execute_result"
    }
   ],
   "source": [
    "#Add code axis = 0 -> column, axis = 1 -> row\n",
    "df['Rating'].skew()"
   ]
  },
  {
   "cell_type": "markdown",
   "metadata": {
    "id": "15fkZ61cdsQf"
   },
   "source": [
    "###TODO: (6 Marks)  \n",
    "\n",
    "Category and Reviews:\n",
    "\n",
    " \n",
    "* In each unique Category  get average of review and rating    \n",
    "* Sort the rating in the descending order as show result\n",
    "\n",
    "\n",
    "\n",
    "```\n",
    "Example only. Not the answer.\n",
    "\n",
    "\t                    Reviews\tRating\n",
    "Category\t\t\n",
    "EVENTS\t              3.568667e+03\t4.435556\n",
    "ART_AND_DESIGN\t      2.810356e+04\t4.377049\n",
    "EDUCATION\t            1.795715e+05\t4.375969\n",
    "BOOKS_AND_REFERENCE\t  1.235752e+05\t4.347458\n",
    "PERSONALIZATION\t      2.441312e+05\t4.333117\n",
    "PARENTING\t            1.907218e+04\t4.300000\n",
    "GAME\t                1.318002e+06\t4.281285\n",
    "BEAUTY\t              9.407929e+03\t4.278571\n",
    "HEALTH_AND_FITNESS\t  1.177293e+05\t4.261450\n",
    "SOCIAL\t              2.186789e+06\t4.254918\n",
    ".......\n",
    ".......\n",
    ".......\n",
    "```\n",
    "\n",
    "\n",
    "\n"
   ]
  },
  {
   "cell_type": "code",
   "execution_count": 168,
   "metadata": {
    "id": "nQUA11aWKo4w"
   },
   "outputs": [
    {
     "name": "stdout",
     "output_type": "stream",
     "text": [
      "                          Reviews    Rating\n",
      "Category                                   \n",
      "ART_AND_DESIGN       2.810356e+04  4.377049\n",
      "AUTO_AND_VEHICLES    1.594014e+04  4.190411\n",
      "BEAUTY               9.407929e+03  4.278571\n",
      "BOOKS_AND_REFERENCE  1.235752e+05  4.347458\n",
      "BUSINESS             4.576928e+04  4.102593\n",
      "COMICS               5.830940e+04  4.155172\n",
      "COMMUNICATION        1.958544e+06  4.151466\n",
      "DATING               3.487525e+04  3.971698\n",
      "EDUCATION            1.795715e+05  4.375969\n",
      "ENTERTAINMENT        4.285650e+05  4.136036\n",
      "EVENTS               3.568667e+03  4.435556\n",
      "FAMILY               2.310824e+05  4.191264\n",
      "FINANCE              5.362640e+04  4.127445\n",
      "FOOD_AND_DRINK       7.237033e+04  4.164151\n",
      "GAME                 1.318002e+06  4.281285\n",
      "HEALTH_AND_FITNESS   1.177293e+05  4.261450\n",
      "HOUSE_AND_HOME       4.109399e+04  4.164706\n",
      "LIBRARIES_AND_DEMO   1.583422e+04  4.179688\n",
      "LIFESTYLE            4.203134e+04  4.096066\n",
      "MAPS_AND_NAVIGATION  2.472505e+05  4.051613\n",
      "MEDICAL              4.623930e+03  4.182450\n",
      "NEWS_AND_MAGAZINES   1.787145e+05  4.128505\n",
      "PARENTING            1.907218e+04  4.300000\n",
      "PERSONALIZATION      2.441312e+05  4.333117\n",
      "PHOTOGRAPHY          6.720308e+05  4.182895\n",
      "PRODUCTIVITY         3.070486e+05  4.201796\n",
      "SHOPPING             4.699553e+05  4.251485\n",
      "SOCIAL               2.186789e+06  4.254918\n",
      "SPORTS               2.283990e+05  4.225175\n",
      "TOOLS                3.726878e+05  4.047203\n",
      "TRAVEL_AND_LOCAL     2.710488e+05  4.094146\n",
      "VIDEO_PLAYERS        6.898731e+05  4.063750\n",
      "WEATHER              1.947293e+05  4.244000\n"
     ]
    }
   ],
   "source": [
    "#Add code\n",
    "# Ref: https://stackoverflow.com/questions/61634759/python-futurewarning-indexing-with-multiple-keys-implicitly-converted-to-a-tup\n",
    "# df.groupby(['Category'])['Reviews', 'Rating'].agg('mean') <-- Warning\n",
    "df_reviews_ratiings = df.groupby(['Category'])[['Reviews', 'Rating']].agg('mean')\n",
    "print (df_reviews_ratiings)"
   ]
  },
  {
   "cell_type": "code",
   "execution_count": 166,
   "metadata": {
    "id": "FRKooLI8-JN5"
   },
   "outputs": [
    {
     "name": "stdout",
     "output_type": "stream",
     "text": [
      "                          Reviews    Rating\n",
      "Category                                   \n",
      "EVENTS               3.568667e+03  4.435556\n",
      "ART_AND_DESIGN       2.810356e+04  4.377049\n",
      "EDUCATION            1.795715e+05  4.375969\n",
      "BOOKS_AND_REFERENCE  1.235752e+05  4.347458\n",
      "PERSONALIZATION      2.441312e+05  4.333117\n",
      "PARENTING            1.907218e+04  4.300000\n",
      "GAME                 1.318002e+06  4.281285\n",
      "BEAUTY               9.407929e+03  4.278571\n",
      "HEALTH_AND_FITNESS   1.177293e+05  4.261450\n",
      "SOCIAL               2.186789e+06  4.254918\n",
      "SHOPPING             4.699553e+05  4.251485\n",
      "WEATHER              1.947293e+05  4.244000\n",
      "SPORTS               2.283990e+05  4.225175\n",
      "PRODUCTIVITY         3.070486e+05  4.201796\n",
      "FAMILY               2.310824e+05  4.191264\n",
      "AUTO_AND_VEHICLES    1.594014e+04  4.190411\n",
      "PHOTOGRAPHY          6.720308e+05  4.182895\n",
      "MEDICAL              4.623930e+03  4.182450\n",
      "LIBRARIES_AND_DEMO   1.583422e+04  4.179688\n",
      "HOUSE_AND_HOME       4.109399e+04  4.164706\n",
      "FOOD_AND_DRINK       7.237033e+04  4.164151\n",
      "COMICS               5.830940e+04  4.155172\n",
      "COMMUNICATION        1.958544e+06  4.151466\n",
      "ENTERTAINMENT        4.285650e+05  4.136036\n",
      "NEWS_AND_MAGAZINES   1.787145e+05  4.128505\n",
      "FINANCE              5.362640e+04  4.127445\n",
      "BUSINESS             4.576928e+04  4.102593\n",
      "LIFESTYLE            4.203134e+04  4.096066\n",
      "TRAVEL_AND_LOCAL     2.710488e+05  4.094146\n",
      "VIDEO_PLAYERS        6.898731e+05  4.063750\n",
      "MAPS_AND_NAVIGATION  2.472505e+05  4.051613\n",
      "TOOLS                3.726878e+05  4.047203\n",
      "DATING               3.487525e+04  3.971698\n"
     ]
    }
   ],
   "source": [
    "#Add code\n",
    "# Ref: https://datatofish.com/sort-pandas-dataframe/\n",
    "df_reviews_ratiings.sort_values(by=['Rating'], inplace=True, ascending=False)\n",
    "print (df_reviews_ratiings)"
   ]
  },
  {
   "cell_type": "code",
   "execution_count": null,
   "metadata": {},
   "outputs": [],
   "source": []
  }
 ],
 "metadata": {
  "colab": {
   "collapsed_sections": [],
   "name": "ITI102_Assignment1_V1a_student.ipynb",
   "provenance": []
  },
  "kernelspec": {
   "display_name": "Python 3",
   "language": "python",
   "name": "python3"
  },
  "language_info": {
   "codemirror_mode": {
    "name": "ipython",
    "version": 3
   },
   "file_extension": ".py",
   "mimetype": "text/x-python",
   "name": "python",
   "nbconvert_exporter": "python",
   "pygments_lexer": "ipython3",
   "version": "3.8.3"
  }
 },
 "nbformat": 4,
 "nbformat_minor": 1
}
